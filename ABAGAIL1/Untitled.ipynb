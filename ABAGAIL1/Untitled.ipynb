{
 "cells": [
  {
   "cell_type": "code",
   "execution_count": 1,
   "metadata": {},
   "outputs": [],
   "source": [
    "import numpy as np\n",
    "import pandas as pd\n",
    "df = pd.read_csv('times.csv', delimiter=',', quotechar='\"')"
   ]
  },
  {
   "cell_type": "code",
   "execution_count": 4,
   "metadata": {},
   "outputs": [
    {
     "data": {
      "text/plain": [
       "Index(['iteration number', ' training time MIMIC', ' training time RHC',\n",
       "       ' training time SA', ' training time GA'],\n",
       "      dtype='object')"
      ]
     },
     "execution_count": 4,
     "metadata": {},
     "output_type": "execute_result"
    }
   ],
   "source": [
    "df.columns"
   ]
  },
  {
   "cell_type": "code",
   "execution_count": 6,
   "metadata": {},
   "outputs": [],
   "source": [
    "df[\" training time MIMIC\"] = np.log(df[\" training time MIMIC\"])"
   ]
  },
  {
   "cell_type": "code",
   "execution_count": 7,
   "metadata": {},
   "outputs": [],
   "source": [
    "df[\" training time RHC\"] = np.log(df[\" training time RHC\"])"
   ]
  },
  {
   "cell_type": "code",
   "execution_count": 8,
   "metadata": {},
   "outputs": [],
   "source": [
    "df[\" training time SA\"] = np.log(df[\" training time SA\"])"
   ]
  },
  {
   "cell_type": "code",
   "execution_count": 9,
   "metadata": {},
   "outputs": [],
   "source": [
    "df[\" training time GA\"] = np.log(df[\" training time GA\"])"
   ]
  },
  {
   "cell_type": "code",
   "execution_count": 10,
   "metadata": {},
   "outputs": [
    {
     "data": {
      "text/html": [
       "<div>\n",
       "<style scoped>\n",
       "    .dataframe tbody tr th:only-of-type {\n",
       "        vertical-align: middle;\n",
       "    }\n",
       "\n",
       "    .dataframe tbody tr th {\n",
       "        vertical-align: top;\n",
       "    }\n",
       "\n",
       "    .dataframe thead th {\n",
       "        text-align: right;\n",
       "    }\n",
       "</style>\n",
       "<table border=\"1\" class=\"dataframe\">\n",
       "  <thead>\n",
       "    <tr style=\"text-align: right;\">\n",
       "      <th></th>\n",
       "      <th>iteration number</th>\n",
       "      <th>training time MIMIC</th>\n",
       "      <th>training time RHC</th>\n",
       "      <th>training time SA</th>\n",
       "      <th>training time GA</th>\n",
       "      <th>log training</th>\n",
       "    </tr>\n",
       "  </thead>\n",
       "  <tbody>\n",
       "    <tr>\n",
       "      <th>0</th>\n",
       "      <td>0</td>\n",
       "      <td>-1.007335</td>\n",
       "      <td>-8.895530</td>\n",
       "      <td>-8.440232</td>\n",
       "      <td>-3.893531</td>\n",
       "      <td>-1.007335</td>\n",
       "    </tr>\n",
       "    <tr>\n",
       "      <th>1</th>\n",
       "      <td>100</td>\n",
       "      <td>2.000197</td>\n",
       "      <td>-4.231649</td>\n",
       "      <td>-4.261722</td>\n",
       "      <td>-1.187738</td>\n",
       "      <td>2.000197</td>\n",
       "    </tr>\n",
       "    <tr>\n",
       "      <th>2</th>\n",
       "      <td>200</td>\n",
       "      <td>2.264176</td>\n",
       "      <td>-4.119885</td>\n",
       "      <td>-4.247376</td>\n",
       "      <td>-0.982441</td>\n",
       "      <td>2.264176</td>\n",
       "    </tr>\n",
       "    <tr>\n",
       "      <th>3</th>\n",
       "      <td>300</td>\n",
       "      <td>2.476156</td>\n",
       "      <td>-4.068317</td>\n",
       "      <td>-4.227065</td>\n",
       "      <td>-0.752824</td>\n",
       "      <td>2.476156</td>\n",
       "    </tr>\n",
       "    <tr>\n",
       "      <th>4</th>\n",
       "      <td>400</td>\n",
       "      <td>2.653047</td>\n",
       "      <td>-3.908637</td>\n",
       "      <td>-4.192110</td>\n",
       "      <td>-0.566003</td>\n",
       "      <td>2.653047</td>\n",
       "    </tr>\n",
       "  </tbody>\n",
       "</table>\n",
       "</div>"
      ],
      "text/plain": [
       "   iteration number   training time MIMIC   training time RHC  \\\n",
       "0                 0             -1.007335           -8.895530   \n",
       "1               100              2.000197           -4.231649   \n",
       "2               200              2.264176           -4.119885   \n",
       "3               300              2.476156           -4.068317   \n",
       "4               400              2.653047           -3.908637   \n",
       "\n",
       "    training time SA   training time GA  log training  \n",
       "0          -8.440232          -3.893531     -1.007335  \n",
       "1          -4.261722          -1.187738      2.000197  \n",
       "2          -4.247376          -0.982441      2.264176  \n",
       "3          -4.227065          -0.752824      2.476156  \n",
       "4          -4.192110          -0.566003      2.653047  "
      ]
     },
     "execution_count": 10,
     "metadata": {},
     "output_type": "execute_result"
    }
   ],
   "source": [
    "df.head()"
   ]
  },
  {
   "cell_type": "code",
   "execution_count": 23,
   "metadata": {},
   "outputs": [
    {
     "ename": "KeyError",
     "evalue": "' training time MIMIC'",
     "output_type": "error",
     "traceback": [
      "\u001b[0;31m---------------------------------------------------------------------------\u001b[0m",
      "\u001b[0;31mKeyError\u001b[0m                                  Traceback (most recent call last)",
      "\u001b[0;32m/usr/local/lib/python3.7/site-packages/pandas/core/indexes/base.py\u001b[0m in \u001b[0;36mget_loc\u001b[0;34m(self, key, method, tolerance)\u001b[0m\n\u001b[1;32m   2601\u001b[0m             \u001b[0;32mtry\u001b[0m\u001b[0;34m:\u001b[0m\u001b[0;34m\u001b[0m\u001b[0;34m\u001b[0m\u001b[0m\n\u001b[0;32m-> 2602\u001b[0;31m                 \u001b[0;32mreturn\u001b[0m \u001b[0mself\u001b[0m\u001b[0;34m.\u001b[0m\u001b[0m_engine\u001b[0m\u001b[0;34m.\u001b[0m\u001b[0mget_loc\u001b[0m\u001b[0;34m(\u001b[0m\u001b[0mkey\u001b[0m\u001b[0;34m)\u001b[0m\u001b[0;34m\u001b[0m\u001b[0;34m\u001b[0m\u001b[0m\n\u001b[0m\u001b[1;32m   2603\u001b[0m             \u001b[0;32mexcept\u001b[0m \u001b[0mKeyError\u001b[0m\u001b[0;34m:\u001b[0m\u001b[0;34m\u001b[0m\u001b[0;34m\u001b[0m\u001b[0m\n",
      "\u001b[0;32mpandas/_libs/index.pyx\u001b[0m in \u001b[0;36mpandas._libs.index.IndexEngine.get_loc\u001b[0;34m()\u001b[0m\n",
      "\u001b[0;32mpandas/_libs/index.pyx\u001b[0m in \u001b[0;36mpandas._libs.index.IndexEngine.get_loc\u001b[0;34m()\u001b[0m\n",
      "\u001b[0;32mpandas/_libs/hashtable_class_helper.pxi\u001b[0m in \u001b[0;36mpandas._libs.hashtable.PyObjectHashTable.get_item\u001b[0;34m()\u001b[0m\n",
      "\u001b[0;32mpandas/_libs/hashtable_class_helper.pxi\u001b[0m in \u001b[0;36mpandas._libs.hashtable.PyObjectHashTable.get_item\u001b[0;34m()\u001b[0m\n",
      "\u001b[0;31mKeyError\u001b[0m: ' training time MIMIC'",
      "\nDuring handling of the above exception, another exception occurred:\n",
      "\u001b[0;31mKeyError\u001b[0m                                  Traceback (most recent call last)",
      "\u001b[0;32m<ipython-input-23-47e6307be0ae>\u001b[0m in \u001b[0;36m<module>\u001b[0;34m\u001b[0m\n\u001b[1;32m      4\u001b[0m \u001b[0mplt\u001b[0m\u001b[0;34m.\u001b[0m\u001b[0mtitle\u001b[0m\u001b[0;34m(\u001b[0m\u001b[0;34m'Four Peaks Training Time(Log) vs Iteration Number'\u001b[0m\u001b[0;34m)\u001b[0m\u001b[0;34m\u001b[0m\u001b[0;34m\u001b[0m\u001b[0m\n\u001b[1;32m      5\u001b[0m \u001b[0;31m#plt.ylim((0,1))\u001b[0m\u001b[0;34m\u001b[0m\u001b[0;34m\u001b[0m\u001b[0;34m\u001b[0m\u001b[0m\n\u001b[0;32m----> 6\u001b[0;31m \u001b[0mplt\u001b[0m\u001b[0;34m.\u001b[0m\u001b[0mplot\u001b[0m\u001b[0;34m(\u001b[0m\u001b[0mdf\u001b[0m\u001b[0;34m[\u001b[0m\u001b[0;34m\"iteration number\"\u001b[0m\u001b[0;34m]\u001b[0m\u001b[0;34m,\u001b[0m \u001b[0mdf\u001b[0m\u001b[0;34m[\u001b[0m\u001b[0;34m\" training time MIMIC\"\u001b[0m\u001b[0;34m]\u001b[0m\u001b[0;34m,\u001b[0m \u001b[0;34m'-'\u001b[0m\u001b[0;34m,\u001b[0m \u001b[0mlabel\u001b[0m\u001b[0;34m=\u001b[0m\u001b[0;34m'training MIMIC'\u001b[0m\u001b[0;34m)\u001b[0m\u001b[0;34m\u001b[0m\u001b[0;34m\u001b[0m\u001b[0m\n\u001b[0m\u001b[1;32m      7\u001b[0m \u001b[0mplt\u001b[0m\u001b[0;34m.\u001b[0m\u001b[0mplot\u001b[0m\u001b[0;34m(\u001b[0m\u001b[0mdf\u001b[0m\u001b[0;34m[\u001b[0m\u001b[0;34m\"iteration number\"\u001b[0m\u001b[0;34m]\u001b[0m\u001b[0;34m,\u001b[0m \u001b[0mdf\u001b[0m\u001b[0;34m[\u001b[0m\u001b[0;34m\" training time RHC\"\u001b[0m\u001b[0;34m]\u001b[0m\u001b[0;34m,\u001b[0m \u001b[0;34m'-'\u001b[0m\u001b[0;34m,\u001b[0m \u001b[0mlabel\u001b[0m\u001b[0;34m=\u001b[0m\u001b[0;34m'training RHC'\u001b[0m\u001b[0;34m)\u001b[0m\u001b[0;34m\u001b[0m\u001b[0;34m\u001b[0m\u001b[0m\n\u001b[1;32m      8\u001b[0m \u001b[0mplt\u001b[0m\u001b[0;34m.\u001b[0m\u001b[0mplot\u001b[0m\u001b[0;34m(\u001b[0m\u001b[0mdf\u001b[0m\u001b[0;34m[\u001b[0m\u001b[0;34m\"iteration number\"\u001b[0m\u001b[0;34m]\u001b[0m\u001b[0;34m,\u001b[0m \u001b[0mdf\u001b[0m\u001b[0;34m[\u001b[0m\u001b[0;34m\" training time GA\"\u001b[0m\u001b[0;34m]\u001b[0m\u001b[0;34m,\u001b[0m \u001b[0;34m'-'\u001b[0m\u001b[0;34m,\u001b[0m \u001b[0mlabel\u001b[0m\u001b[0;34m=\u001b[0m\u001b[0;34m'training GA'\u001b[0m\u001b[0;34m)\u001b[0m\u001b[0;34m\u001b[0m\u001b[0;34m\u001b[0m\u001b[0m\n",
      "\u001b[0;32m/usr/local/lib/python3.7/site-packages/pandas/core/frame.py\u001b[0m in \u001b[0;36m__getitem__\u001b[0;34m(self, key)\u001b[0m\n\u001b[1;32m   2915\u001b[0m             \u001b[0;32mif\u001b[0m \u001b[0mself\u001b[0m\u001b[0;34m.\u001b[0m\u001b[0mcolumns\u001b[0m\u001b[0;34m.\u001b[0m\u001b[0mnlevels\u001b[0m \u001b[0;34m>\u001b[0m \u001b[0;36m1\u001b[0m\u001b[0;34m:\u001b[0m\u001b[0;34m\u001b[0m\u001b[0;34m\u001b[0m\u001b[0m\n\u001b[1;32m   2916\u001b[0m                 \u001b[0;32mreturn\u001b[0m \u001b[0mself\u001b[0m\u001b[0;34m.\u001b[0m\u001b[0m_getitem_multilevel\u001b[0m\u001b[0;34m(\u001b[0m\u001b[0mkey\u001b[0m\u001b[0;34m)\u001b[0m\u001b[0;34m\u001b[0m\u001b[0;34m\u001b[0m\u001b[0m\n\u001b[0;32m-> 2917\u001b[0;31m             \u001b[0mindexer\u001b[0m \u001b[0;34m=\u001b[0m \u001b[0mself\u001b[0m\u001b[0;34m.\u001b[0m\u001b[0mcolumns\u001b[0m\u001b[0;34m.\u001b[0m\u001b[0mget_loc\u001b[0m\u001b[0;34m(\u001b[0m\u001b[0mkey\u001b[0m\u001b[0;34m)\u001b[0m\u001b[0;34m\u001b[0m\u001b[0;34m\u001b[0m\u001b[0m\n\u001b[0m\u001b[1;32m   2918\u001b[0m             \u001b[0;32mif\u001b[0m \u001b[0mis_integer\u001b[0m\u001b[0;34m(\u001b[0m\u001b[0mindexer\u001b[0m\u001b[0;34m)\u001b[0m\u001b[0;34m:\u001b[0m\u001b[0;34m\u001b[0m\u001b[0;34m\u001b[0m\u001b[0m\n\u001b[1;32m   2919\u001b[0m                 \u001b[0mindexer\u001b[0m \u001b[0;34m=\u001b[0m \u001b[0;34m[\u001b[0m\u001b[0mindexer\u001b[0m\u001b[0;34m]\u001b[0m\u001b[0;34m\u001b[0m\u001b[0;34m\u001b[0m\u001b[0m\n",
      "\u001b[0;32m/usr/local/lib/python3.7/site-packages/pandas/core/indexes/base.py\u001b[0m in \u001b[0;36mget_loc\u001b[0;34m(self, key, method, tolerance)\u001b[0m\n\u001b[1;32m   2602\u001b[0m                 \u001b[0;32mreturn\u001b[0m \u001b[0mself\u001b[0m\u001b[0;34m.\u001b[0m\u001b[0m_engine\u001b[0m\u001b[0;34m.\u001b[0m\u001b[0mget_loc\u001b[0m\u001b[0;34m(\u001b[0m\u001b[0mkey\u001b[0m\u001b[0;34m)\u001b[0m\u001b[0;34m\u001b[0m\u001b[0;34m\u001b[0m\u001b[0m\n\u001b[1;32m   2603\u001b[0m             \u001b[0;32mexcept\u001b[0m \u001b[0mKeyError\u001b[0m\u001b[0;34m:\u001b[0m\u001b[0;34m\u001b[0m\u001b[0;34m\u001b[0m\u001b[0m\n\u001b[0;32m-> 2604\u001b[0;31m                 \u001b[0;32mreturn\u001b[0m \u001b[0mself\u001b[0m\u001b[0;34m.\u001b[0m\u001b[0m_engine\u001b[0m\u001b[0;34m.\u001b[0m\u001b[0mget_loc\u001b[0m\u001b[0;34m(\u001b[0m\u001b[0mself\u001b[0m\u001b[0;34m.\u001b[0m\u001b[0m_maybe_cast_indexer\u001b[0m\u001b[0;34m(\u001b[0m\u001b[0mkey\u001b[0m\u001b[0;34m)\u001b[0m\u001b[0;34m)\u001b[0m\u001b[0;34m\u001b[0m\u001b[0;34m\u001b[0m\u001b[0m\n\u001b[0m\u001b[1;32m   2605\u001b[0m         \u001b[0mindexer\u001b[0m \u001b[0;34m=\u001b[0m \u001b[0mself\u001b[0m\u001b[0;34m.\u001b[0m\u001b[0mget_indexer\u001b[0m\u001b[0;34m(\u001b[0m\u001b[0;34m[\u001b[0m\u001b[0mkey\u001b[0m\u001b[0;34m]\u001b[0m\u001b[0;34m,\u001b[0m \u001b[0mmethod\u001b[0m\u001b[0;34m=\u001b[0m\u001b[0mmethod\u001b[0m\u001b[0;34m,\u001b[0m \u001b[0mtolerance\u001b[0m\u001b[0;34m=\u001b[0m\u001b[0mtolerance\u001b[0m\u001b[0;34m)\u001b[0m\u001b[0;34m\u001b[0m\u001b[0;34m\u001b[0m\u001b[0m\n\u001b[1;32m   2606\u001b[0m         \u001b[0;32mif\u001b[0m \u001b[0mindexer\u001b[0m\u001b[0;34m.\u001b[0m\u001b[0mndim\u001b[0m \u001b[0;34m>\u001b[0m \u001b[0;36m1\u001b[0m \u001b[0;32mor\u001b[0m \u001b[0mindexer\u001b[0m\u001b[0;34m.\u001b[0m\u001b[0msize\u001b[0m \u001b[0;34m>\u001b[0m \u001b[0;36m1\u001b[0m\u001b[0;34m:\u001b[0m\u001b[0;34m\u001b[0m\u001b[0;34m\u001b[0m\u001b[0m\n",
      "\u001b[0;32mpandas/_libs/index.pyx\u001b[0m in \u001b[0;36mpandas._libs.index.IndexEngine.get_loc\u001b[0;34m()\u001b[0m\n",
      "\u001b[0;32mpandas/_libs/index.pyx\u001b[0m in \u001b[0;36mpandas._libs.index.IndexEngine.get_loc\u001b[0;34m()\u001b[0m\n",
      "\u001b[0;32mpandas/_libs/hashtable_class_helper.pxi\u001b[0m in \u001b[0;36mpandas._libs.hashtable.PyObjectHashTable.get_item\u001b[0;34m()\u001b[0m\n",
      "\u001b[0;32mpandas/_libs/hashtable_class_helper.pxi\u001b[0m in \u001b[0;36mpandas._libs.hashtable.PyObjectHashTable.get_item\u001b[0;34m()\u001b[0m\n",
      "\u001b[0;31mKeyError\u001b[0m: ' training time MIMIC'"
     ]
    },
    {
     "data": {
      "image/png": "[encoded data removed]",
      "text/plain": [
       "<Figure size 432x288 with 1 Axes>"
      ]
     },
     "metadata": {
      "needs_background": "light"
     },
     "output_type": "display_data"
    }
   ],
   "source": [
    "import matplotlib.pyplot as plt\n",
    "plt.figure()\n",
    "\n",
    "plt.title('Four Peaks Training Time(Log) vs Iteration Number')\n",
    "#plt.ylim((0,1))\n",
    "plt.plot(df[\"iteration number\"], df[\" training time MIMIC\"], '-', label='training MIMIC')\n",
    "plt.plot(df[\"iteration number\"], df[\" training time RHC\"], '-', label='training RHC')\n",
    "plt.plot(df[\"iteration number\"], df[\" training time GA\"], '-', label='training GA')\n",
    "plt.plot(df[\"iteration number\"], df[\" training time SA\"], '-', label='training SA')\n",
    "\n",
    "plt.xlabel(\"Iteration Number\")\n",
    "plt.ylabel(\"Training Time (Log)\")\n",
    "\n",
    "#plt.errorbar(depth, list(cross_val_acc_avg),yerr=list(cross_val_acc_std), fmt='r', label='cross validation error')\n",
    "plt.legend()\n",
    "plt.savefig('trainingTime')\n",
    "\n",
    "plt.show()\n"
   ]
  },
  {
   "cell_type": "code",
   "execution_count": 18,
   "metadata": {},
   "outputs": [],
   "source": [
    "import numpy as np\n",
    "import pandas as pd\n",
    "df = pd.read_csv('fitness1.csv', delimiter=',', quotechar='\"')"
   ]
  },
  {
   "cell_type": "code",
   "execution_count": 20,
   "metadata": {},
   "outputs": [
    {
     "data": {
      "text/plain": [
       "Index(['iteration number', ' MIMIC fitness', 'RHC  fitness', ' SA fitness',\n",
       "       ' GA fitness'],\n",
       "      dtype='object')"
      ]
     },
     "execution_count": 20,
     "metadata": {},
     "output_type": "execute_result"
    }
   ],
   "source": [
    "df.columns"
   ]
  },
  {
   "cell_type": "code",
   "execution_count": 26,
   "metadata": {},
   "outputs": [
    {
     "data": {
      "image/png": "[encoded data removed]",
      "text/plain": [
       "<Figure size 432x288 with 1 Axes>"
      ]
     },
     "metadata": {
      "needs_background": "light"
     },
     "output_type": "display_data"
    }
   ],
   "source": [
    "import matplotlib.pyplot as plt\n",
    "plt.figure()\n",
    "\n",
    "plt.title('Fitness vs Iteration Number')\n",
    "#plt.ylim((0,1))\n",
    "plt.plot(df[\"iteration number\"], df[\" MIMIC fitness\"], '-', label='fitness MIMIC')\n",
    "plt.plot(df[\"iteration number\"], df[\"RHC  fitness\"], '-', label='fitness RHC')\n",
    "plt.plot(df[\"iteration number\"], df[\" GA fitness\"], '-', label='fitness GA')\n",
    "\n",
    "plt.plot(df[\"iteration number\"], df[\" SA fitness\"], '-', label='fitness SA')\n",
    "\n",
    "plt.xlabel(\"Iteration Number\")\n",
    "plt.ylabel(\"Fitness\")\n",
    "\n",
    "#plt.errorbar(depth, list(cross_val_acc_avg),yerr=list(cross_val_acc_std), fmt='r', label='cross validation error')\n",
    "plt.legend()\n",
    "plt.savefig('fitness')\n",
    "\n",
    "plt.show()\n"
   ]
  },
  {
   "cell_type": "code",
   "execution_count": 27,
   "metadata": {},
   "outputs": [],
   "source": [
    "import numpy as np\n",
    "import pandas as pd\n",
    "df = pd.read_csv('flipflop.csv', delimiter=',', quotechar='\"')"
   ]
  },
  {
   "cell_type": "code",
   "execution_count": 28,
   "metadata": {},
   "outputs": [
    {
     "data": {
      "text/html": [
       "<div>\n",
       "<style scoped>\n",
       "    .dataframe tbody tr th:only-of-type {\n",
       "        vertical-align: middle;\n",
       "    }\n",
       "\n",
       "    .dataframe tbody tr th {\n",
       "        vertical-align: top;\n",
       "    }\n",
       "\n",
       "    .dataframe thead th {\n",
       "        text-align: right;\n",
       "    }\n",
       "</style>\n",
       "<table border=\"1\" class=\"dataframe\">\n",
       "  <thead>\n",
       "    <tr style=\"text-align: right;\">\n",
       "      <th></th>\n",
       "      <th>opt.RandomizedHillClimbing@610455d6 iteration number</th>\n",
       "      <th>training time</th>\n",
       "      <th>fitness</th>\n",
       "      <th>opt.SimulatedAnnealing@511d50c0 iteration number</th>\n",
       "      <th>training time.1</th>\n",
       "      <th>fitness.1</th>\n",
       "      <th>opt.ga.StandardGeneticAlgorithm@60e53b93 iteration number</th>\n",
       "      <th>training time.2</th>\n",
       "      <th>fitness.2</th>\n",
       "      <th>opt.prob.MIMIC@659499f1 iteration number</th>\n",
       "      <th>training time.3</th>\n",
       "      <th>fitness.3</th>\n",
       "    </tr>\n",
       "  </thead>\n",
       "  <tbody>\n",
       "    <tr>\n",
       "      <th>0</th>\n",
       "      <td>0</td>\n",
       "      <td>0.000242</td>\n",
       "      <td>41</td>\n",
       "      <td>0</td>\n",
       "      <td>1.199260</td>\n",
       "      <td>32</td>\n",
       "      <td>0</td>\n",
       "      <td>2.693809</td>\n",
       "      <td>39.375</td>\n",
       "      <td>0</td>\n",
       "      <td>56.307608</td>\n",
       "      <td>46</td>\n",
       "    </tr>\n",
       "    <tr>\n",
       "      <th>1</th>\n",
       "      <td>100</td>\n",
       "      <td>0.008760</td>\n",
       "      <td>49</td>\n",
       "      <td>100</td>\n",
       "      <td>1.199636</td>\n",
       "      <td>47</td>\n",
       "      <td>100</td>\n",
       "      <td>2.953494</td>\n",
       "      <td>62.225</td>\n",
       "      <td>100</td>\n",
       "      <td>57.832642</td>\n",
       "      <td>70</td>\n",
       "    </tr>\n",
       "    <tr>\n",
       "      <th>2</th>\n",
       "      <td>200</td>\n",
       "      <td>0.010439</td>\n",
       "      <td>59</td>\n",
       "      <td>200</td>\n",
       "      <td>1.199769</td>\n",
       "      <td>53</td>\n",
       "      <td>200</td>\n",
       "      <td>3.093845</td>\n",
       "      <td>66.115</td>\n",
       "      <td>200</td>\n",
       "      <td>59.063021</td>\n",
       "      <td>71</td>\n",
       "    </tr>\n",
       "    <tr>\n",
       "      <th>3</th>\n",
       "      <td>300</td>\n",
       "      <td>0.011196</td>\n",
       "      <td>63</td>\n",
       "      <td>300</td>\n",
       "      <td>1.199917</td>\n",
       "      <td>65</td>\n",
       "      <td>300</td>\n",
       "      <td>3.265927</td>\n",
       "      <td>68.030</td>\n",
       "      <td>300</td>\n",
       "      <td>59.959922</td>\n",
       "      <td>73</td>\n",
       "    </tr>\n",
       "    <tr>\n",
       "      <th>4</th>\n",
       "      <td>400</td>\n",
       "      <td>0.011971</td>\n",
       "      <td>63</td>\n",
       "      <td>400</td>\n",
       "      <td>1.200038</td>\n",
       "      <td>68</td>\n",
       "      <td>400</td>\n",
       "      <td>3.298316</td>\n",
       "      <td>68.020</td>\n",
       "      <td>400</td>\n",
       "      <td>60.732824</td>\n",
       "      <td>73</td>\n",
       "    </tr>\n",
       "  </tbody>\n",
       "</table>\n",
       "</div>"
      ],
      "text/plain": [
       "   opt.RandomizedHillClimbing@610455d6 iteration number   training time  \\\n",
       "0                                                  0           0.000242   \n",
       "1                                                100           0.008760   \n",
       "2                                                200           0.010439   \n",
       "3                                                300           0.011196   \n",
       "4                                                400           0.011971   \n",
       "\n",
       "    fitness  opt.SimulatedAnnealing@511d50c0 iteration number  \\\n",
       "0        41                                                 0   \n",
       "1        49                                               100   \n",
       "2        59                                               200   \n",
       "3        63                                               300   \n",
       "4        63                                               400   \n",
       "\n",
       "    training time.1   fitness.1  \\\n",
       "0          1.199260          32   \n",
       "1          1.199636          47   \n",
       "2          1.199769          53   \n",
       "3          1.199917          65   \n",
       "4          1.200038          68   \n",
       "\n",
       "   opt.ga.StandardGeneticAlgorithm@60e53b93 iteration number  \\\n",
       "0                                                  0           \n",
       "1                                                100           \n",
       "2                                                200           \n",
       "3                                                300           \n",
       "4                                                400           \n",
       "\n",
       "    training time.2   fitness.2  opt.prob.MIMIC@659499f1 iteration number  \\\n",
       "0          2.693809      39.375                                         0   \n",
       "1          2.953494      62.225                                       100   \n",
       "2          3.093845      66.115                                       200   \n",
       "3          3.265927      68.030                                       300   \n",
       "4          3.298316      68.020                                       400   \n",
       "\n",
       "    training time.3   fitness.3  \n",
       "0         56.307608          46  \n",
       "1         57.832642          70  \n",
       "2         59.063021          71  \n",
       "3         59.959922          73  \n",
       "4         60.732824          73  "
      ]
     },
     "execution_count": 28,
     "metadata": {},
     "output_type": "execute_result"
    }
   ],
   "source": [
    "df.head()"
   ]
  },
  {
   "cell_type": "code",
   "execution_count": 32,
   "metadata": {},
   "outputs": [
    {
     "data": {
      "text/plain": [
       "Index(['opt.RandomizedHillClimbing@610455d6 iteration number',\n",
       "       ' training time', ' fitness',\n",
       "       'opt.SimulatedAnnealing@511d50c0 iteration number', ' training time.1',\n",
       "       ' fitness.1',\n",
       "       'opt.ga.StandardGeneticAlgorithm@60e53b93 iteration number',\n",
       "       ' training time.2', ' fitness.2',\n",
       "       'opt.prob.MIMIC@659499f1 iteration number', ' training time.3',\n",
       "       ' fitness.3', 'training time MIMIC', 'training time RHC',\n",
       "       'training time GA', 'training time SA'],\n",
       "      dtype='object')"
      ]
     },
     "execution_count": 32,
     "metadata": {},
     "output_type": "execute_result"
    }
   ],
   "source": [
    "df.columns"
   ]
  },
  {
   "cell_type": "code",
   "execution_count": 29,
   "metadata": {},
   "outputs": [],
   "source": [
    "df[\"training time MIMIC\"] = np.log(df[\" training time.3\"])\n",
    "df[\"training time RHC\"] = np.log(df[\" training time\"])\n",
    "df[\"training time GA\"] = np.log(df[\" training time.2\"])\n",
    "df[\"training time SA\"] = np.log(df[\" training time.1\"])\n"
   ]
  },
  {
   "cell_type": "code",
   "execution_count": 35,
   "metadata": {},
   "outputs": [
    {
     "data": {
      "image/png": "[encoded data removed]",
      "text/plain": [
       "<Figure size 432x288 with 1 Axes>"
      ]
     },
     "metadata": {
      "needs_background": "light"
     },
     "output_type": "display_data"
    }
   ],
   "source": [
    "import matplotlib.pyplot as plt\n",
    "plt.figure()\n",
    "\n",
    "plt.title('Flip Flop Training Time(Log) vs Iteration Number')\n",
    "#plt.ylim((0,1))\n",
    "plt.plot(df[\"opt.RandomizedHillClimbing@610455d6 iteration number\"], df[\"training time MIMIC\"], '-', label='training MIMIC')\n",
    "plt.plot(df[\"opt.RandomizedHillClimbing@610455d6 iteration number\"], df[\"training time RHC\"], '-', label='training RHC')\n",
    "plt.plot(df[\"opt.RandomizedHillClimbing@610455d6 iteration number\"], df[\"training time GA\"], '-', label='training GA')\n",
    "plt.plot(df[\"opt.RandomizedHillClimbing@610455d6 iteration number\"], df[\"training time SA\"], '-', label='training SA')\n",
    "\n",
    "\n",
    "plt.xlabel(\"Iteration Number\")\n",
    "plt.ylabel(\"Training Time (Log)\")\n",
    "\n",
    "#plt.errorbar(depth, list(cross_val_acc_avg),yerr=list(cross_val_acc_std), fmt='r', label='cross validation error')\n",
    "plt.legend()\n",
    "plt.savefig('trainingTime')\n",
    "\n",
    "plt.show()\n"
   ]
  },
  {
   "cell_type": "code",
   "execution_count": 34,
   "metadata": {},
   "outputs": [
    {
     "data": {
      "image/png": "[encoded data removed]",
      "text/plain": [
       "<Figure size 432x288 with 1 Axes>"
      ]
     },
     "metadata": {
      "needs_background": "light"
     },
     "output_type": "display_data"
    }
   ],
   "source": [
    "import matplotlib.pyplot as plt\n",
    "plt.figure()\n",
    "\n",
    "plt.title('Flip Flop Fitness vs Iteration Number')\n",
    "#plt.ylim((0,1))\n",
    "plt.plot(df[\"opt.RandomizedHillClimbing@610455d6 iteration number\"], df[\" fitness.3\"], '-', label='training MIMIC')\n",
    "plt.plot(df[\"opt.RandomizedHillClimbing@610455d6 iteration number\"], df[\" fitness\"], '-', label='training RHC')\n",
    "plt.plot(df[\"opt.RandomizedHillClimbing@610455d6 iteration number\"], df[\" fitness.2\"], '-', label='training GA')\n",
    "plt.plot(df[\"opt.RandomizedHillClimbing@610455d6 iteration number\"], df[\" fitness.1\"], '-', label='training SA')\n",
    "\n",
    "\n",
    "plt.xlabel(\"Iteration Number\")\n",
    "plt.ylabel(\"Fitness\")\n",
    "\n",
    "#plt.errorbar(depth, list(cross_val_acc_avg),yerr=list(cross_val_acc_std), fmt='r', label='cross validation error')\n",
    "plt.legend()\n",
    "plt.savefig('fitness')\n",
    "\n",
    "plt.show()"
   ]
  },
  {
   "cell_type": "code",
   "execution_count": null,
   "metadata": {},
   "outputs": [],
   "source": []
  }
 ],
 "metadata": {
  "kernelspec": {
   "display_name": "Python 3",
   "language": "python",
   "name": "python3"
  },
  "language_info": {
   "codemirror_mode": {
    "name": "ipython",
    "version": 3
   },
   "file_extension": ".py",
   "mimetype": "text/x-python",
   "name": "python",
   "nbconvert_exporter": "python",
   "pygments_lexer": "ipython3",
   "version": "3.7.2"
  }
 },
 "nbformat": 4,
 "nbformat_minor": 2
}
